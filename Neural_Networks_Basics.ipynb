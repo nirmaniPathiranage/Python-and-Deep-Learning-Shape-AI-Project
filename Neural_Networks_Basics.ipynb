{
  "nbformat": 4,
  "nbformat_minor": 0,
  "metadata": {
    "colab": {
      "name": "Neural_Networks_Basics.ipynb",
      "provenance": []
    },
    "kernelspec": {
      "name": "python3",
      "display_name": "Python 3"
    },
    "language_info": {
      "name": "python"
    }
  },
  "cells": [
    {
      "cell_type": "code",
      "metadata": {
        "id": "y9Qpc7s4ehXW"
      },
      "source": [
        "# Importing dataset\n",
        "\n",
        "from sklearn.datasets import load_breast_cancer\n",
        "\n",
        "Data = load_breast_cancer()"
      ],
      "execution_count": 18,
      "outputs": []
    },
    {
      "cell_type": "code",
      "metadata": {
        "colab": {
          "base_uri": "https://localhost:8080/"
        },
        "id": "rQc2evfbgDrw",
        "outputId": "35928c28-b596-44f5-f543-37c475e43232"
      },
      "source": [
        "print(Data.DESCR)"
      ],
      "execution_count": 19,
      "outputs": [
        {
          "output_type": "stream",
          "text": [
            ".. _breast_cancer_dataset:\n",
            "\n",
            "Breast cancer wisconsin (diagnostic) dataset\n",
            "--------------------------------------------\n",
            "\n",
            "**Data Set Characteristics:**\n",
            "\n",
            "    :Number of Instances: 569\n",
            "\n",
            "    :Number of Attributes: 30 numeric, predictive attributes and the class\n",
            "\n",
            "    :Attribute Information:\n",
            "        - radius (mean of distances from center to points on the perimeter)\n",
            "        - texture (standard deviation of gray-scale values)\n",
            "        - perimeter\n",
            "        - area\n",
            "        - smoothness (local variation in radius lengths)\n",
            "        - compactness (perimeter^2 / area - 1.0)\n",
            "        - concavity (severity of concave portions of the contour)\n",
            "        - concave points (number of concave portions of the contour)\n",
            "        - symmetry \n",
            "        - fractal dimension (\"coastline approximation\" - 1)\n",
            "\n",
            "        The mean, standard error, and \"worst\" or largest (mean of the three\n",
            "        largest values) of these features were computed for each image,\n",
            "        resulting in 30 features.  For instance, field 3 is Mean Radius, field\n",
            "        13 is Radius SE, field 23 is Worst Radius.\n",
            "\n",
            "        - class:\n",
            "                - WDBC-Malignant\n",
            "                - WDBC-Benign\n",
            "\n",
            "    :Summary Statistics:\n",
            "\n",
            "    ===================================== ====== ======\n",
            "                                           Min    Max\n",
            "    ===================================== ====== ======\n",
            "    radius (mean):                        6.981  28.11\n",
            "    texture (mean):                       9.71   39.28\n",
            "    perimeter (mean):                     43.79  188.5\n",
            "    area (mean):                          143.5  2501.0\n",
            "    smoothness (mean):                    0.053  0.163\n",
            "    compactness (mean):                   0.019  0.345\n",
            "    concavity (mean):                     0.0    0.427\n",
            "    concave points (mean):                0.0    0.201\n",
            "    symmetry (mean):                      0.106  0.304\n",
            "    fractal dimension (mean):             0.05   0.097\n",
            "    radius (standard error):              0.112  2.873\n",
            "    texture (standard error):             0.36   4.885\n",
            "    perimeter (standard error):           0.757  21.98\n",
            "    area (standard error):                6.802  542.2\n",
            "    smoothness (standard error):          0.002  0.031\n",
            "    compactness (standard error):         0.002  0.135\n",
            "    concavity (standard error):           0.0    0.396\n",
            "    concave points (standard error):      0.0    0.053\n",
            "    symmetry (standard error):            0.008  0.079\n",
            "    fractal dimension (standard error):   0.001  0.03\n",
            "    radius (worst):                       7.93   36.04\n",
            "    texture (worst):                      12.02  49.54\n",
            "    perimeter (worst):                    50.41  251.2\n",
            "    area (worst):                         185.2  4254.0\n",
            "    smoothness (worst):                   0.071  0.223\n",
            "    compactness (worst):                  0.027  1.058\n",
            "    concavity (worst):                    0.0    1.252\n",
            "    concave points (worst):               0.0    0.291\n",
            "    symmetry (worst):                     0.156  0.664\n",
            "    fractal dimension (worst):            0.055  0.208\n",
            "    ===================================== ====== ======\n",
            "\n",
            "    :Missing Attribute Values: None\n",
            "\n",
            "    :Class Distribution: 212 - Malignant, 357 - Benign\n",
            "\n",
            "    :Creator:  Dr. William H. Wolberg, W. Nick Street, Olvi L. Mangasarian\n",
            "\n",
            "    :Donor: Nick Street\n",
            "\n",
            "    :Date: November, 1995\n",
            "\n",
            "This is a copy of UCI ML Breast Cancer Wisconsin (Diagnostic) datasets.\n",
            "https://goo.gl/U2Uwz2\n",
            "\n",
            "Features are computed from a digitized image of a fine needle\n",
            "aspirate (FNA) of a breast mass.  They describe\n",
            "characteristics of the cell nuclei present in the image.\n",
            "\n",
            "Separating plane described above was obtained using\n",
            "Multisurface Method-Tree (MSM-T) [K. P. Bennett, \"Decision Tree\n",
            "Construction Via Linear Programming.\" Proceedings of the 4th\n",
            "Midwest Artificial Intelligence and Cognitive Science Society,\n",
            "pp. 97-101, 1992], a classification method which uses linear\n",
            "programming to construct a decision tree.  Relevant features\n",
            "were selected using an exhaustive search in the space of 1-4\n",
            "features and 1-3 separating planes.\n",
            "\n",
            "The actual linear program used to obtain the separating plane\n",
            "in the 3-dimensional space is that described in:\n",
            "[K. P. Bennett and O. L. Mangasarian: \"Robust Linear\n",
            "Programming Discrimination of Two Linearly Inseparable Sets\",\n",
            "Optimization Methods and Software 1, 1992, 23-34].\n",
            "\n",
            "This database is also available through the UW CS ftp server:\n",
            "\n",
            "ftp ftp.cs.wisc.edu\n",
            "cd math-prog/cpo-dataset/machine-learn/WDBC/\n",
            "\n",
            ".. topic:: References\n",
            "\n",
            "   - W.N. Street, W.H. Wolberg and O.L. Mangasarian. Nuclear feature extraction \n",
            "     for breast tumor diagnosis. IS&T/SPIE 1993 International Symposium on \n",
            "     Electronic Imaging: Science and Technology, volume 1905, pages 861-870,\n",
            "     San Jose, CA, 1993.\n",
            "   - O.L. Mangasarian, W.N. Street and W.H. Wolberg. Breast cancer diagnosis and \n",
            "     prognosis via linear programming. Operations Research, 43(4), pages 570-577, \n",
            "     July-August 1995.\n",
            "   - W.H. Wolberg, W.N. Street, and O.L. Mangasarian. Machine learning techniques\n",
            "     to diagnose breast cancer from fine-needle aspirates. Cancer Letters 77 (1994) \n",
            "     163-171.\n"
          ],
          "name": "stdout"
        }
      ]
    },
    {
      "cell_type": "code",
      "metadata": {
        "colab": {
          "base_uri": "https://localhost:8080/"
        },
        "id": "qMMcqpdHgNGX",
        "outputId": "a3337587-fcdd-4f54-ebe4-d3ed206baea9"
      },
      "source": [
        "features = Data.data\n",
        "target = Data.target\n",
        "\n",
        "print(features.shape)\n",
        "print(target.shape)"
      ],
      "execution_count": 20,
      "outputs": [
        {
          "output_type": "stream",
          "text": [
            "(569, 30)\n",
            "(569,)\n"
          ],
          "name": "stdout"
        }
      ]
    },
    {
      "cell_type": "code",
      "metadata": {
        "colab": {
          "base_uri": "https://localhost:8080/"
        },
        "id": "8OwgFL6ChfV-",
        "outputId": "0a0c7f91-1471-4aae-e90f-b26d9f095e2b"
      },
      "source": [
        "from sklearn.model_selection import train_test_split\n",
        "\n",
        "X_train, X_test, y_train, y_test = train_test_split(features, target, test_size=0.2)\n",
        "\n",
        "print(X_train.shape)\n",
        "print(y_train.shape)\n",
        "print(X_test.shape)\n",
        "print(y_test.shape)"
      ],
      "execution_count": 21,
      "outputs": [
        {
          "output_type": "stream",
          "text": [
            "(455, 30)\n",
            "(455,)\n",
            "(114, 30)\n",
            "(114,)\n"
          ],
          "name": "stdout"
        }
      ]
    },
    {
      "cell_type": "code",
      "metadata": {
        "id": "CbWDEESqlNkv"
      },
      "source": [
        "from keras.models import Sequential\n",
        "from keras.layers import Dense"
      ],
      "execution_count": 22,
      "outputs": []
    },
    {
      "cell_type": "code",
      "metadata": {
        "id": "67cBpz9wlaJD"
      },
      "source": [
        "model = Sequential()\n",
        "model.add(Dense(32, input_dim = 30, activation='relu')) # hidden layer 1\n",
        "model.add(Dense(64, activation='relu')) # hidden layer 2\n",
        "model.add(Dense(1, activation='sigmoid'))"
      ],
      "execution_count": 23,
      "outputs": []
    },
    {
      "cell_type": "code",
      "metadata": {
        "id": "qXm5Dlj_mZkl"
      },
      "source": [
        "model.compile(loss='binary_crossentropy', optimizer='adam', metrics=['accuracy'])"
      ],
      "execution_count": 24,
      "outputs": []
    },
    {
      "cell_type": "code",
      "metadata": {
        "colab": {
          "base_uri": "https://localhost:8080/"
        },
        "id": "vjI8JsQ0mub1",
        "outputId": "fae3c2b9-d830-4c7e-957b-91acc4981b78"
      },
      "source": [
        "model.summary()"
      ],
      "execution_count": 25,
      "outputs": [
        {
          "output_type": "stream",
          "text": [
            "Model: \"sequential_1\"\n",
            "_________________________________________________________________\n",
            "Layer (type)                 Output Shape              Param #   \n",
            "=================================================================\n",
            "dense_3 (Dense)              (None, 32)                992       \n",
            "_________________________________________________________________\n",
            "dense_4 (Dense)              (None, 64)                2112      \n",
            "_________________________________________________________________\n",
            "dense_5 (Dense)              (None, 1)                 65        \n",
            "=================================================================\n",
            "Total params: 3,169\n",
            "Trainable params: 3,169\n",
            "Non-trainable params: 0\n",
            "_________________________________________________________________\n"
          ],
          "name": "stdout"
        }
      ]
    },
    {
      "cell_type": "code",
      "metadata": {
        "colab": {
          "base_uri": "https://localhost:8080/"
        },
        "id": "09eJNY4zm1-t",
        "outputId": "90d8b8b9-8090-4929-8468-d000e216471f"
      },
      "source": [
        "model.fit(X_train, y_train, epochs=10, batch_size=32)"
      ],
      "execution_count": 26,
      "outputs": [
        {
          "output_type": "stream",
          "text": [
            "Epoch 1/10\n",
            "15/15 [==============================] - 1s 2ms/step - loss: 1.6172 - accuracy: 0.7115\n",
            "Epoch 2/10\n",
            "15/15 [==============================] - 0s 2ms/step - loss: 1.0374 - accuracy: 0.7156\n",
            "Epoch 3/10\n",
            "15/15 [==============================] - 0s 2ms/step - loss: 0.3516 - accuracy: 0.8960\n",
            "Epoch 4/10\n",
            "15/15 [==============================] - 0s 2ms/step - loss: 0.2633 - accuracy: 0.9314\n",
            "Epoch 5/10\n",
            "15/15 [==============================] - 0s 2ms/step - loss: 0.2441 - accuracy: 0.8974\n",
            "Epoch 6/10\n",
            "15/15 [==============================] - 0s 2ms/step - loss: 0.3012 - accuracy: 0.9089\n",
            "Epoch 7/10\n",
            "15/15 [==============================] - 0s 2ms/step - loss: 0.3538 - accuracy: 0.9141\n",
            "Epoch 8/10\n",
            "15/15 [==============================] - 0s 2ms/step - loss: 0.2650 - accuracy: 0.9188\n",
            "Epoch 9/10\n",
            "15/15 [==============================] - 0s 2ms/step - loss: 0.4901 - accuracy: 0.8741\n",
            "Epoch 10/10\n",
            "15/15 [==============================] - 0s 2ms/step - loss: 0.2351 - accuracy: 0.9174\n"
          ],
          "name": "stdout"
        },
        {
          "output_type": "execute_result",
          "data": {
            "text/plain": [
              "<keras.callbacks.History at 0x7f6040aa5790>"
            ]
          },
          "metadata": {
            "tags": []
          },
          "execution_count": 26
        }
      ]
    },
    {
      "cell_type": "code",
      "metadata": {
        "colab": {
          "base_uri": "https://localhost:8080/"
        },
        "id": "Hw-wA2WEnDeg",
        "outputId": "76890317-5319-4f52-ccdf-c86c2a9688d7"
      },
      "source": [
        "scores = model.evaluate(X_test, y_test)\n",
        "print(scores) # returns loss and accuracy"
      ],
      "execution_count": 27,
      "outputs": [
        {
          "output_type": "stream",
          "text": [
            "4/4 [==============================] - 0s 3ms/step - loss: 0.2241 - accuracy: 0.9035\n",
            "[0.22413524985313416, 0.9035087823867798]\n"
          ],
          "name": "stdout"
        }
      ]
    },
    {
      "cell_type": "code",
      "metadata": {
        "id": "gz4teTLgnYEV"
      },
      "source": [
        "predictions = model.predict(X_test)\n",
        "label = []"
      ],
      "execution_count": 28,
      "outputs": []
    },
    {
      "cell_type": "code",
      "metadata": {
        "colab": {
          "base_uri": "https://localhost:8080/"
        },
        "id": "6nQEzIMWnkk1",
        "outputId": "0dbd0318-5ead-4af1-99ca-e9999c9d2785"
      },
      "source": [
        "for pred in predictions:\n",
        "  if pred >= 0.5:\n",
        "     print('Malignant')\n",
        "  else:\n",
        "     print('Benign')"
      ],
      "execution_count": 29,
      "outputs": [
        {
          "output_type": "stream",
          "text": [
            "Benign\n",
            "Malignant\n",
            "Malignant\n",
            "Malignant\n",
            "Benign\n",
            "Malignant\n",
            "Malignant\n",
            "Malignant\n",
            "Benign\n",
            "Malignant\n",
            "Malignant\n",
            "Benign\n",
            "Benign\n",
            "Malignant\n",
            "Malignant\n",
            "Malignant\n",
            "Malignant\n",
            "Malignant\n",
            "Benign\n",
            "Malignant\n",
            "Malignant\n",
            "Malignant\n",
            "Benign\n",
            "Benign\n",
            "Benign\n",
            "Benign\n",
            "Benign\n",
            "Benign\n",
            "Benign\n",
            "Benign\n",
            "Benign\n",
            "Benign\n",
            "Benign\n",
            "Benign\n",
            "Benign\n",
            "Benign\n",
            "Malignant\n",
            "Malignant\n",
            "Malignant\n",
            "Malignant\n",
            "Benign\n",
            "Malignant\n",
            "Malignant\n",
            "Benign\n",
            "Benign\n",
            "Benign\n",
            "Benign\n",
            "Benign\n",
            "Malignant\n",
            "Malignant\n",
            "Benign\n",
            "Malignant\n",
            "Benign\n",
            "Malignant\n",
            "Malignant\n",
            "Malignant\n",
            "Malignant\n",
            "Malignant\n",
            "Malignant\n",
            "Benign\n",
            "Benign\n",
            "Malignant\n",
            "Benign\n",
            "Benign\n",
            "Malignant\n",
            "Benign\n",
            "Benign\n",
            "Malignant\n",
            "Benign\n",
            "Malignant\n",
            "Benign\n",
            "Malignant\n",
            "Benign\n",
            "Benign\n",
            "Malignant\n",
            "Malignant\n",
            "Benign\n",
            "Malignant\n",
            "Malignant\n",
            "Benign\n",
            "Malignant\n",
            "Malignant\n",
            "Malignant\n",
            "Benign\n",
            "Malignant\n",
            "Malignant\n",
            "Malignant\n",
            "Malignant\n",
            "Benign\n",
            "Malignant\n",
            "Benign\n",
            "Malignant\n",
            "Benign\n",
            "Benign\n",
            "Malignant\n",
            "Malignant\n",
            "Benign\n",
            "Malignant\n",
            "Malignant\n",
            "Benign\n",
            "Benign\n",
            "Malignant\n",
            "Benign\n",
            "Benign\n",
            "Benign\n",
            "Malignant\n",
            "Malignant\n",
            "Malignant\n",
            "Benign\n",
            "Malignant\n",
            "Malignant\n",
            "Malignant\n",
            "Benign\n",
            "Benign\n"
          ],
          "name": "stdout"
        }
      ]
    }
  ]
}